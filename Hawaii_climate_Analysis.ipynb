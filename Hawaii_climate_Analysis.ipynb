{
 "cells": [
  {
   "cell_type": "code",
   "execution_count": 1,
   "metadata": {},
   "outputs": [
    {
     "name": "stdout",
     "output_type": "stream",
     "text": [
      "Requirement already satisfied: sqlalchemy in c:\\users\\shahp\\anaconda31\\lib\\site-packages (1.3.20)\n"
     ]
    }
   ],
   "source": [
    "!pip install sqlalchemy"
   ]
  },
  {
   "cell_type": "code",
   "execution_count": 103,
   "metadata": {},
   "outputs": [],
   "source": [
    "import sqlalchemy\n",
    "from sqlalchemy.ext.automap import automap_base\n",
    "from sqlalchemy.orm import Session\n",
    "from sqlalchemy import create_engine, inspect, func\n",
    "\n",
    "# Path to sqlite\n",
    "database_path = \"./Resources/hawaii.sqlite\"\n",
    "\n",
    "# Create an engine that can talk to the database\n",
    "engine = create_engine(f\"sqlite:///{database_path}\")"
   ]
  },
  {
   "cell_type": "code",
   "execution_count": 104,
   "metadata": {},
   "outputs": [
    {
     "data": {
      "text/plain": [
       "['measurement', 'station']"
      ]
     },
     "execution_count": 104,
     "metadata": {},
     "output_type": "execute_result"
    }
   ],
   "source": [
    "# Use the Inspector to explore the database and print the table names\n",
    "\n",
    "inspector = inspect(engine)\n",
    "inspector.get_table_names()"
   ]
  },
  {
   "cell_type": "code",
   "execution_count": 105,
   "metadata": {},
   "outputs": [
    {
     "name": "stdout",
     "output_type": "stream",
     "text": [
      "id INTEGER\n",
      "station TEXT\n",
      "date TEXT\n",
      "prcp FLOAT\n",
      "tobs FLOAT\n"
     ]
    }
   ],
   "source": [
    "# Use Inspector to print the column names and types\n",
    "\n",
    "columns = inspector.get_columns('measurement')\n",
    "for c in columns:\n",
    "    print(c['name'], c[\"type\"])"
   ]
  },
  {
   "cell_type": "code",
   "execution_count": 106,
   "metadata": {},
   "outputs": [
    {
     "name": "stdout",
     "output_type": "stream",
     "text": [
      "id INTEGER\n",
      "station TEXT\n",
      "name TEXT\n",
      "latitude FLOAT\n",
      "longitude FLOAT\n",
      "elevation FLOAT\n"
     ]
    }
   ],
   "source": [
    "# Use Inspector to print the column names and types\n",
    "\n",
    "columns = inspector.get_columns('station')\n",
    "for c in columns:\n",
    "    print(c['name'], c[\"type\"])"
   ]
  },
  {
   "cell_type": "code",
   "execution_count": 107,
   "metadata": {},
   "outputs": [],
   "source": [
    "# Declare a Base using `automap_base()`\n",
    "Base = automap_base()"
   ]
  },
  {
   "cell_type": "code",
   "execution_count": 108,
   "metadata": {},
   "outputs": [],
   "source": [
    "# Use the Base class to reflect the database tables\n",
    "Base.prepare(engine, reflect=True)"
   ]
  },
  {
   "cell_type": "code",
   "execution_count": 109,
   "metadata": {},
   "outputs": [
    {
     "data": {
      "text/plain": [
       "['measurement', 'station']"
      ]
     },
     "execution_count": 109,
     "metadata": {},
     "output_type": "execute_result"
    }
   ],
   "source": [
    "# Print all of the classes mapped to the Base\n",
    "Base.classes.keys()"
   ]
  },
  {
   "cell_type": "code",
   "execution_count": 110,
   "metadata": {},
   "outputs": [],
   "source": [
    "# Assign the classes to a variables\n",
    "\n",
    "Measurement = Base.classes.measurement\n",
    "Station = Base.classes.station"
   ]
  },
  {
   "cell_type": "code",
   "execution_count": 117,
   "metadata": {},
   "outputs": [],
   "source": [
    "# Create a session\n",
    "session = Session(engine)"
   ]
  },
  {
   "cell_type": "code",
   "execution_count": 129,
   "metadata": {},
   "outputs": [
    {
     "name": "stdout",
     "output_type": "stream",
     "text": [
      "          id      station        date  prcp  tobs\n",
      "0          1  USC00519397  2010-01-01  0.08  65.0\n",
      "1          2  USC00519397  2010-01-02  0.00  63.0\n",
      "2          3  USC00519397  2010-01-03  0.00  74.0\n",
      "3          4  USC00519397  2010-01-04  0.00  76.0\n",
      "4          5  USC00519397  2010-01-06   NaN  73.0\n",
      "...      ...          ...         ...   ...   ...\n",
      "19545  19546  USC00516128  2017-08-19  0.09  71.0\n",
      "19546  19547  USC00516128  2017-08-20   NaN  78.0\n",
      "19547  19548  USC00516128  2017-08-21  0.56  76.0\n",
      "19548  19549  USC00516128  2017-08-22  0.50  76.0\n",
      "19549  19550  USC00516128  2017-08-23  0.45  76.0\n",
      "\n",
      "[19550 rows x 5 columns]\n",
      "   id      station                                    name  latitude  \\\n",
      "0   1  USC00519397                    WAIKIKI 717.2, HI US  21.27160   \n",
      "1   2  USC00513117                    KANEOHE 838.1, HI US  21.42340   \n",
      "2   3  USC00514830  KUALOA RANCH HEADQUARTERS 886.9, HI US  21.52130   \n",
      "3   4  USC00517948                       PEARL CITY, HI US  21.39340   \n",
      "4   5  USC00518838              UPPER WAHIAWA 874.3, HI US  21.49920   \n",
      "5   6  USC00519523      WAIMANALO EXPERIMENTAL FARM, HI US  21.33556   \n",
      "6   7  USC00519281                     WAIHEE 837.5, HI US  21.45167   \n",
      "7   8  USC00511918       HONOLULU OBSERVATORY 702.2, HI US  21.31520   \n",
      "8   9  USC00516128            MANOA LYON ARBO 785.2, HI US  21.33310   \n",
      "\n",
      "   longitude  elevation  \n",
      "0 -157.81680        3.0  \n",
      "1 -157.80150       14.6  \n",
      "2 -157.83740        7.0  \n",
      "3 -157.97510       11.9  \n",
      "4 -158.01110      306.6  \n",
      "5 -157.71139       19.5  \n",
      "6 -157.84889       32.9  \n",
      "7 -157.99920        0.9  \n",
      "8 -157.80250      152.4  \n"
     ]
    }
   ],
   "source": [
    "# using Pandas\n",
    "\n",
    "import pandas as pd \n",
    "\n",
    "measurement_df = pd.DataFrame(session.query(Measurement.id, Measurement.station, Measurement.date, Measurement.prcp, Measurement.tobs).all())\n",
    "print(measurement_df)\n",
    "\n",
    "station_df = pd.DataFrame(session.query(Station.id, Station.station, Station.name, Station.latitude, Station.longitude,Station.elevation).all())\n",
    "print(station_df)\n",
    "\n",
    "\n",
    "# data_list = []\n",
    "# for row in session.query(Measurement).all():\n",
    "# #     print(row.__dict__)\n",
    "#     data_list.append(row.__dict__)"
   ]
  },
  {
   "cell_type": "code",
   "execution_count": null,
   "metadata": {},
   "outputs": [],
   "source": []
  },
  {
   "cell_type": "markdown",
   "metadata": {},
   "source": [
    "# Precipitation Analysis"
   ]
  },
  {
   "cell_type": "code",
   "execution_count": 257,
   "metadata": {},
   "outputs": [
    {
     "data": {
      "text/plain": [
       "Timestamp('2017-08-23 00:00:00')"
      ]
     },
     "execution_count": 257,
     "metadata": {},
     "output_type": "execute_result"
    }
   ],
   "source": [
    "# To get most recent date\n",
    "import datetime as dt\n",
    "from datetime import datetime\n",
    "import pandas as pd \n",
    "\n",
    "most_recent_date = measurement_df[['date']].max()\n",
    "most_recent_date =pd.to_datetime(most_recent_date)\n",
    "most_recent_date['date']"
   ]
  },
  {
   "cell_type": "code",
   "execution_count": 258,
   "metadata": {},
   "outputs": [
    {
     "data": {
      "text/plain": [
       "'2016-08-23 00:00:00'"
      ]
     },
     "execution_count": 258,
     "metadata": {},
     "output_type": "execute_result"
    }
   ],
   "source": [
    "last_year_date = most_recent_date - pd.DateOffset(years=1)\n",
    "last_year_date = str(last_year_date['date'])\n",
    "last_year_date"
   ]
  },
  {
   "cell_type": "code",
   "execution_count": 333,
   "metadata": {},
   "outputs": [],
   "source": [
    "data_between_dates_df = measurement_df[(measurement_df['date'] >= last_year_date) & (measurement_df['date'] <= str(most_recent_date))]\n",
    "data_between_dates_df = data_between_dates_df[['date','prcp']]\n",
    "data_between_dates_df = data_between_dates_df.dropna()"
   ]
  },
  {
   "cell_type": "code",
   "execution_count": 334,
   "metadata": {},
   "outputs": [],
   "source": [
    "# data_between_dates_df.sort_values('date')\n",
    "data_between_dates_df.set_index('date', inplace=True)"
   ]
  },
  {
   "cell_type": "code",
   "execution_count": 335,
   "metadata": {},
   "outputs": [
    {
     "data": {
      "text/plain": [
       "date\n",
       "2016-08-24    9.33\n",
       "2016-08-25    0.54\n",
       "2016-08-26    0.10\n",
       "2016-08-27    0.32\n",
       "2016-08-28    3.10\n",
       "              ... \n",
       "2017-08-19    0.09\n",
       "2017-08-20    0.01\n",
       "2017-08-21    0.58\n",
       "2017-08-22    0.50\n",
       "2017-08-23    0.53\n",
       "Name: prcp, Length: 365, dtype: float64"
      ]
     },
     "execution_count": 335,
     "metadata": {},
     "output_type": "execute_result"
    }
   ],
   "source": [
    "groupby_df = data_between_dates_df.groupby('date')['prcp'].sum()\n",
    "groupby_df"
   ]
  },
  {
   "cell_type": "code",
   "execution_count": 336,
   "metadata": {},
   "outputs": [
    {
     "data": {
      "image/png": "[encoded data removed]",
      "text/plain": [
       "<Figure size 720x504 with 1 Axes>"
      ]
     },
     "metadata": {
      "needs_background": "light"
     },
     "output_type": "display_data"
    }
   ],
   "source": [
    "# Plot the Results in a Matplotlib bar chart\n",
    "import matplotlib.pyplot as plt\n",
    "import matplotlib\n",
    "import numpy as np\n",
    "\n",
    "ax = groupby_df.plot.bar(figsize=(10,7),width = 4, color='deepskyblue')\n",
    "plt.xticks(np.arange(0,len(df),40))\n",
    "plt.tight_layout()\n",
    "plt.grid()\n",
    "plt.legend()\n",
    "plt.ylabel('Inches')\n",
    "ax.set_facecolor('whitesmoke')\n",
    "plt.show()"
   ]
  },
  {
   "cell_type": "code",
   "execution_count": null,
   "metadata": {},
   "outputs": [],
   "source": []
  },
  {
   "cell_type": "code",
   "execution_count": 128,
   "metadata": {},
   "outputs": [],
   "source": [
    "session.commit()"
   ]
  },
  {
   "cell_type": "code",
   "execution_count": null,
   "metadata": {},
   "outputs": [],
   "source": []
  }
 ],
 "metadata": {
  "kernelspec": {
   "display_name": "Python 3",
   "language": "python",
   "name": "python3"
  },
  "language_info": {
   "codemirror_mode": {
    "name": "ipython",
    "version": 3
   },
   "file_extension": ".py",
   "mimetype": "text/x-python",
   "name": "python",
   "nbconvert_exporter": "python",
   "pygments_lexer": "ipython3",
   "version": "3.8.5"
  }
 },
 "nbformat": 4,
 "nbformat_minor": 4
}
